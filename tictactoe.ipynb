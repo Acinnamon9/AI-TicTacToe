{
 "cells": [
  {
   "cell_type": "code",
   "execution_count": 1,
   "metadata": {},
   "outputs": [],
   "source": [
    "s = [[1,2,3], [4,5,6], [7,8,9]]"
   ]
  },
  {
   "cell_type": "code",
   "execution_count": null,
   "metadata": {},
   "outputs": [
    {
     "name": "stdout",
     "output_type": "stream",
     "text": [
      "1 2 3 \n",
      "\n",
      "4 5 6 \n",
      "\n",
      "7 8 9 \n",
      "\n"
     ]
    }
   ],
   "source": [
    "for i in range(len(s)):\n",
    "    for j in range(len(s[0])):\n",
    "        print(s[i][j], end = \" \")\n",
    "        #consider(s, i, j)\n",
    "    print(\"\\n\")"
   ]
  },
  {
   "cell_type": "code",
   "execution_count": null,
   "metadata": {},
   "outputs": [],
   "source": [
    "def check_board(s):\n",
    "    #iterate through the list and check for win\n",
    "    for i in range(len(s)):\n",
    "         for j in range(len(s[0])):\n",
    "            print(s[i][j], end = \" \")\n",
    "            #consider(s, i, j)\n",
    "        print(\"\\n\")\n"
   ]
  },
  {
   "cell_type": "code",
   "execution_count": null,
   "metadata": {},
   "outputs": [],
   "source": [
    "def consider(matrix, row, col):\n",
    "    row_conj = conjugate(row)\n",
    "    col_conj = conjugate(col)\n",
    "    if (row==col==1):\n",
    "        if(matrix[row_conj[0]][col]==matrix[row_conj[1]][col]==matrix[row][col]):\n",
    "            return \"{} is the winner\".format(matrix[row][col])"
   ]
  },
  {
   "cell_type": "code",
   "execution_count": 11,
   "metadata": {},
   "outputs": [],
   "source": [
    "def conjugate(number):\n",
    "    my_set = {0, 1, 2}\n",
    "    my_list = [element for element in my_set if element!= number]\n",
    "    return my_list"
   ]
  },
  {
   "cell_type": "markdown",
   "metadata": {},
   "source": []
  },
  {
   "cell_type": "code",
   "execution_count": null,
   "metadata": {},
   "outputs": [],
   "source": [
    "def print_next_cell(matrix, row, col):\n",
    "    # Check if we are at the edge of the matrix and need to wrap around\n",
    "    if col == len(matrix[0]) - 1:   # Last column\n",
    "        next_col = 0                # Start from first column\n",
    "        next_row = row + 1          # Move to next row\n",
    "    else:                           # Not last column\n",
    "        next_col = col + 1          \n",
    "        next_row = row              # Stay on same row\n",
    "        \n",
    "    # Check if we have reached the end of the rows and need to wrap around\n",
    "    if next_row == len(matrix):     # Last row\n",
    "        next_row = 0                # Start from first row\n",
    "    \n",
    "    print(\"Next cell is:\", matrix[next_row][next_col])"
   ]
  },
  {
   "cell_type": "code",
   "execution_count": null,
   "metadata": {},
   "outputs": [
    {
     "name": "stdout",
     "output_type": "stream",
     "text": [
      "Next cell is: 4\n"
     ]
    }
   ],
   "source": [
    "print_next_cell(s, 0, 2)"
   ]
  }
 ],
 "metadata": {
  "kernelspec": {
   "display_name": "Python 3",
   "language": "python",
   "name": "python3"
  },
  "language_info": {
   "codemirror_mode": {
    "name": "ipython",
    "version": 3
   },
   "file_extension": ".py",
   "mimetype": "text/x-python",
   "name": "python",
   "nbconvert_exporter": "python",
   "pygments_lexer": "ipython3",
   "version": "3.12.7"
  }
 },
 "nbformat": 4,
 "nbformat_minor": 2
}
